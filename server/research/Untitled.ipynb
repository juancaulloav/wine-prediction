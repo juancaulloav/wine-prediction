{
 "cells": [
  {
   "cell_type": "code",
   "execution_count": null,
   "id": "3208109d-03e9-4c83-887f-0cede1dd4b5b",
   "metadata": {},
   "outputs": [],
   "source": [
    "import numpy as np\n",
    "import pandas as pd"
   ]
  },
  {
   "cell_type": "code",
   "execution_count": null,
   "id": "e3458dbc-2c92-46a1-9491-bc0309d36f9f",
   "metadata": {},
   "outputs": [],
   "source": [
    "df1 = pd.read_csv(r\"C:\\Users\\juanc\\OneDrive\\Escritorio\\innovacion\\winequality-red.csv\")"
   ]
  },
  {
   "cell_type": "code",
   "execution_count": null,
   "id": "0991b05c-d0b7-49f4-9c75-94bbb8ed4894",
   "metadata": {},
   "outputs": [],
   "source": [
    "df1"
   ]
  },
  {
   "cell_type": "code",
   "execution_count": null,
   "id": "26c9d826-b964-4d53-9350-6943268549c4",
   "metadata": {},
   "outputs": [],
   "source": [
    "df1['quality_R'] = 0\n",
    "df1.loc[df1['quality'] <= 5, 'quality_R' ] = 0\n",
    "df1.loc[(df1['quality'] > 5) & (df1['quality'] <=7), 'quality_R' ] = 1\n",
    "df1.loc[ df1['quality'] > 7, 'quality_R' ] = 2"
   ]
  },
  {
   "cell_type": "code",
   "execution_count": null,
   "id": "abd26868-f21d-412a-839b-f1bfac82d6d3",
   "metadata": {},
   "outputs": [],
   "source": [
    "df1['fixed acidityR'] = 0\n",
    "df1.loc[df1['fixed acidity'] <= 5, 'fixed acidityR' ] = 0\n",
    "df1.loc[(df1['fixed acidity'] > 5) & (df1['fixed acidity'] <=8), 'fixed acidityR' ] = 1\n",
    "df1.loc[(df1['fixed acidity'] > 8) & (df1['fixed acidity'] <=9), 'fixed acidityR' ] = 2\n",
    "df1.loc[ df1['fixed acidity'] > 9, 'fixed acidityR' ] = 3"
   ]
  },
  {
   "cell_type": "code",
   "execution_count": null,
   "id": "5333c6cd-2f31-470c-81e9-7be97ba66372",
   "metadata": {},
   "outputs": [],
   "source": [
    "df1['volatile acidityR'] = 0\n",
    "df1.loc[df1['volatile acidity'] <= 0.3, 'volatile acidityR' ] = 0\n",
    "df1.loc[(df1['volatile acidity'] > 0.3) & (df1['volatile acidity'] <=0.45), 'volatile acidityR' ] = 1\n",
    "df1.loc[(df1['volatile acidity'] > 0.45) & (df1['volatile acidity'] <=0.6), 'volatile acidityR' ] = 2\n",
    "df1.loc[(df1['volatile acidity'] > 0.6) & (df1['volatile acidity'] <=0.75), 'volatile acidityR' ] = 3\n",
    "df1.loc[ df1['volatile acidity'] > 0.75, 'volatile acidityR' ] = 4"
   ]
  },
  {
   "cell_type": "code",
   "execution_count": null,
   "id": "956c6f0e-39b1-43ef-ad0e-18cb06bdfb67",
   "metadata": {},
   "outputs": [],
   "source": [
    "df1['citric acidR'] = 0\n",
    "df1.loc[df1['citric acid'] <= 0.3, 'citric acidR' ] = 0\n",
    "df1.loc[(df1['citric acid'] > 0.3) & (df1['citric acid'] <=0.5), 'citric acidR' ] = 1\n",
    "df1.loc[(df1['citric acid'] > 0.5) & (df1['citric acid'] <=0.7), 'citric acidR' ] = 2\n",
    "df1.loc[(df1['citric acid'] > 0.7) & (df1['citric acid'] <=0.9), 'citric acidR' ] = 3\n",
    "df1.loc[ df1['citric acid'] > 0.9, 'citric acidR' ] = 4"
   ]
  },
  {
   "cell_type": "code",
   "execution_count": null,
   "id": "b62ed402-aaa3-4342-aa98-7e51f125c693",
   "metadata": {},
   "outputs": [],
   "source": [
    "df1['residual sugarR'] = 0\n",
    "df1.loc[df1['residual sugar'] <= 2.3, 'residual sugarR' ] = 0\n",
    "df1.loc[(df1['residual sugar'] > 2.3) & (df1['residual sugar'] <=5.8), 'residual sugarR' ] = 1\n",
    "df1.loc[(df1['residual sugar'] > 5.8) & (df1['residual sugar'] <=7), 'residual sugarR' ] = 2\n",
    "df1.loc[ df1['residual sugar'] > 7, 'residual sugarR' ] = 3"
   ]
  },
  {
   "cell_type": "code",
   "execution_count": null,
   "id": "49759168-183c-4172-9a70-88d96524a29c",
   "metadata": {},
   "outputs": [],
   "source": [
    "df1['chloridesR'] = 0\n",
    "df1.loc[df1['chlorides'] <= 0.07, 'chloridesR' ] = 0\n",
    "df1.loc[(df1['chlorides'] > 0.07) & (df1['chlorides'] <=0.013), 'chloridesR' ] = 1\n",
    "df1.loc[(df1['chlorides'] > 0.013) & (df1['chlorides'] <=0.019), 'chloridesR' ] = 2\n",
    "df1.loc[ df1['chlorides'] > 0.019, 'chloridesR' ] = 3"
   ]
  },
  {
   "cell_type": "code",
   "execution_count": null,
   "id": "7c053252-1f49-4f65-b082-f71b28889351",
   "metadata": {},
   "outputs": [],
   "source": [
    "df1['free sulfur dioxideR'] = 0\n",
    "df1.loc[df1['free sulfur dioxide'] <= 8, 'free sulfur dioxideR' ] = 0\n",
    "df1.loc[(df1['free sulfur dioxide'] > 8) & (df1['free sulfur dioxide'] <=15), 'free sulfur dioxideR' ] = 1\n",
    "df1.loc[(df1['free sulfur dioxide'] > 15) & (df1['free sulfur dioxide'] <=22), 'free sulfur dioxideR' ] = 2\n",
    "df1.loc[(df1['free sulfur dioxide'] > 22) & (df1['free sulfur dioxide'] <=35), 'free sulfur dioxideR' ] = 3\n",
    "df1.loc[ df1['free sulfur dioxide'] > 35, 'free sulfur dioxideR' ] = 4"
   ]
  },
  {
   "cell_type": "code",
   "execution_count": null,
   "id": "702562ee-339a-41f9-b3a2-86d28f43cbfa",
   "metadata": {},
   "outputs": [],
   "source": [
    "df1['total sulfur dioxideR'] = 0\n",
    "df1.loc[df1['total sulfur dioxide'] <= 35, 'total sulfur dioxideR' ] = 0\n",
    "df1.loc[(df1['total sulfur dioxide'] > 35) & (df1['total sulfur dioxide'] <=60), 'total sulfur dioxideR' ] = 1\n",
    "df1.loc[(df1['total sulfur dioxide'] > 60) & (df1['total sulfur dioxide'] <=90), 'total sulfur dioxideR' ] = 2\n",
    "df1.loc[(df1['total sulfur dioxide'] > 90) & (df1['total sulfur dioxide'] <=120), 'total sulfur dioxideR' ] = 3\n",
    "df1.loc[ df1['total sulfur dioxide'] > 120, 'total sulfur dioxideR' ] = 4"
   ]
  },
  {
   "cell_type": "code",
   "execution_count": null,
   "id": "bce2b715-e2f8-4648-9dd9-35b89d7965d4",
   "metadata": {},
   "outputs": [],
   "source": [
    "df1['densityR'] = 0\n",
    "df1.loc[df1['density'] <= 0.995, 'densityR' ] = 0\n",
    "df1.loc[(df1['density'] > 0.995) & (df1['density'] <=0.996), 'densityR' ] = 1\n",
    "df1.loc[(df1['density'] > 0.996) & (df1['density'] <=0.997), 'densityR' ] = 2\n",
    "df1.loc[(df1['density'] > 0.997) & (df1['density'] <=0.9985), 'densityR' ] = 3\n",
    "df1.loc[ df1['density'] > 0.9985, 'densityR' ] = 4"
   ]
  },
  {
   "cell_type": "code",
   "execution_count": null,
   "id": "c46ee6e5-9456-4882-a622-37c48b083ac8",
   "metadata": {},
   "outputs": [],
   "source": [
    "df1['pHR'] = 0\n",
    "df1.loc[df1['pH'] <= 3.15, 'pHR' ] = 0\n",
    "df1.loc[(df1['pH'] > 3.15) & (df1['pH'] <=3.35), 'pHR' ] = 1\n",
    "df1.loc[(df1['pH'] > 3.35) & (df1['pH'] <=3.5), 'pHR' ] = 2\n",
    "df1.loc[(df1['pH'] > 3.5) & (df1['pH'] <=3.6), 'pHR' ] = 3\n",
    "df1.loc[ df1['pH'] > 3.6, 'pHR' ] = 4"
   ]
  },
  {
   "cell_type": "code",
   "execution_count": null,
   "id": "9c668aa9-b70b-4ccf-9005-fc1d6e718928",
   "metadata": {},
   "outputs": [],
   "source": [
    "df1['sulphatesR'] = 0\n",
    "df1.loc[df1['sulphates'] <= 0.5, 'sulphatesR' ] = 0\n",
    "df1.loc[(df1['sulphates'] > 0.5) & (df1['sulphates'] <=0.6), 'sulphatesR' ] = 1\n",
    "df1.loc[(df1['sulphates'] > 0.6) & (df1['sulphates'] <=0.7), 'sulphatesR' ] = 2\n",
    "df1.loc[(df1['sulphates'] > 0.7) & (df1['sulphates'] <=0.85), 'sulphatesR' ] = 3\n",
    "df1.loc[ df1['sulphates'] > 0.85, 'sulphatesR' ] = 4"
   ]
  },
  {
   "cell_type": "code",
   "execution_count": null,
   "id": "888c5375-01c7-48ed-9848-5d55a406d4bd",
   "metadata": {},
   "outputs": [],
   "source": [
    "df1['alcoholR'] = 0\n",
    "df1.loc[df1['alcohol'] <= 9.5, 'alcoholR' ] = 0\n",
    "df1.loc[(df1['alcohol'] > 9.5) & (df1['alcohol'] <=10), 'alcoholR' ] = 1\n",
    "df1.loc[(df1['alcohol'] > 10) & (df1['alcohol'] <=11), 'alcoholR' ] = 2\n",
    "df1.loc[(df1['alcohol'] > 11) & (df1['alcohol'] <=12), 'alcoholR' ] = 3\n",
    "df1.loc[ df1['alcohol'] > 12, 'alcoholR' ] = 4"
   ]
  },
  {
   "cell_type": "code",
   "execution_count": null,
   "id": "f373b571-e125-4ed5-a687-ee52858c6fd8",
   "metadata": {},
   "outputs": [],
   "source": [
    "df1"
   ]
  },
  {
   "cell_type": "code",
   "execution_count": null,
   "id": "13729263-ee9f-4d9c-a8dc-afe4b948c644",
   "metadata": {},
   "outputs": [],
   "source": [
    "y = np.array(df1['quality_R'])\n"
   ]
  },
  {
   "cell_type": "code",
   "execution_count": null,
   "id": "cfc70f64-f4fd-4356-b5bd-1d4df1d0106d",
   "metadata": {},
   "outputs": [],
   "source": [
    "df1.info()"
   ]
  },
  {
   "cell_type": "code",
   "execution_count": null,
   "id": "e6deb426-bb64-46aa-a5cc-c011a249741c",
   "metadata": {},
   "outputs": [],
   "source": [
    "df1.drop(['fixed acidity','volatile acidity','citric acid','residual sugar','chlorides','free sulfur dioxide','total sulfur dioxide','density','pH','sulphates','alcohol','quality'], axis = 1, inplace=True)\n",
    "X = np.array(df1.drop(columns=['quality_R']))"
   ]
  },
  {
   "cell_type": "code",
   "execution_count": null,
   "id": "6f5d8ad1-97f1-49de-b00a-d1a759b0ec40",
   "metadata": {},
   "outputs": [],
   "source": [
    "from matplotlib import pyplot as plt\n",
    "\n",
    "df1['alcoholR'].plot(kind='hist', bins=20, title='alcohol')\n",
    "plt.gca().spines[['top', 'right',]].set_visible(False)"
   ]
  },
  {
   "cell_type": "code",
   "execution_count": null,
   "id": "08293931-773c-4465-90fb-0cbfc7c25cc0",
   "metadata": {},
   "outputs": [],
   "source": [
    "df1.isnull().sum()"
   ]
  },
  {
   "cell_type": "code",
   "execution_count": null,
   "id": "1d2390e4-97e1-4daa-8907-f2a9ca5cc46f",
   "metadata": {},
   "outputs": [],
   "source": [
    "df1['quality_R'].value_counts()"
   ]
  },
  {
   "cell_type": "code",
   "execution_count": null,
   "id": "2a2616f5-8127-44c3-88bf-9157d9d110d3",
   "metadata": {},
   "outputs": [],
   "source": [
    "%pip install scikit-learn\n",
    "from sklearn.model_selection import train_test_split"
   ]
  },
  {
   "cell_type": "code",
   "execution_count": null,
   "id": "40f067f8-7ca8-4291-b29d-76f93bc7745f",
   "metadata": {},
   "outputs": [],
   "source": [
    "%pip install imbalanced-learn\n",
    "from imblearn.over_sampling import SMOTE\n",
    "from imblearn.under_sampling import RandomUnderSampler\n",
    "from imblearn.pipeline import Pipeline\n",
    "strategy = {0:3000, 1:3000, 2:2000}\n",
    "over = SMOTE(sampling_strategy=strategy)\n",
    "under = RandomUnderSampler(sampling_strategy=0.5)\n",
    "steps = [('o', over), ('u', under)]\n",
    "pipeline = Pipeline(steps=steps)\n",
    "# transform the dataset\n",
    "X, y = over.fit_resample(X, y)"
   ]
  },
  {
   "cell_type": "code",
   "execution_count": null,
   "id": "72c7ff86-17b6-44c7-9ce5-0db9f9d1472f",
   "metadata": {},
   "outputs": [],
   "source": [
    "xtrain,xtest,ytrain,ytest=train_test_split(X,y,test_size=0.25,random_state=1)"
   ]
  },
  {
   "cell_type": "code",
   "execution_count": null,
   "id": "78b7fe99-733d-4995-b32c-0aacce05343f",
   "metadata": {},
   "outputs": [],
   "source": [
    "%pip install scikit-learn\n",
    "from sklearn.metrics import balanced_accuracy_score\n",
    "\n",
    "from sklearn.metrics import accuracy_score\n",
    "from sklearn.metrics import classification_report"
   ]
  },
  {
   "cell_type": "code",
   "execution_count": null,
   "id": "0d1bc7e9-0e9b-44d3-bf32-63d9dd8372ad",
   "metadata": {},
   "outputs": [],
   "source": [
    "%pip install scikit-learn\n",
    "from sklearn.ensemble import RandomForestClassifier\n",
    "Forest = RandomForestClassifier()\n",
    "Forest.fit(xtrain,ytrain)\n",
    "ypredicted=Forest.predict(xtest)\n",
    "print(\"accuracy score:\", accuracy_score(ytest,ypredicted))\n",
    "print(\"balanced_accuracy_score:\",balanced_accuracy_score(ytest,ypredicted))\n",
    "print(\"classificationreport: \\n\",classification_report(ytest,ypredicted))"
   ]
  },
  {
   "cell_type": "code",
   "execution_count": null,
   "id": "8b2f5f2b-a2f0-4f7a-b04a-7652c326cfe9",
   "metadata": {},
   "outputs": [],
   "source": [
    "print(train_mode)\n"
   ]
  },
  {
   "cell_type": "code",
   "execution_count": null,
   "id": "698f8426-f22e-4bf1-b176-8f2df7d3c876",
   "metadata": {},
   "outputs": [],
   "source": []
  },
  {
   "cell_type": "code",
   "execution_count": null,
   "id": "a4ebfc0b-35a7-4162-9508-ae7829c904ff",
   "metadata": {},
   "outputs": [],
   "source": []
  },
  {
   "cell_type": "code",
   "execution_count": null,
   "id": "7b435c14-ef25-4d4d-a9db-2041035b207b",
   "metadata": {},
   "outputs": [],
   "source": []
  }
 ],
 "metadata": {
  "kernelspec": {
   "display_name": "venv",
   "language": "python",
   "name": "venv"
  },
  "language_info": {
   "codemirror_mode": {
    "name": "ipython",
    "version": 3
   },
   "file_extension": ".py",
   "mimetype": "text/x-python",
   "name": "python",
   "nbconvert_exporter": "python",
   "pygments_lexer": "ipython3",
   "version": "3.12.0"
  }
 },
 "nbformat": 4,
 "nbformat_minor": 5
}
